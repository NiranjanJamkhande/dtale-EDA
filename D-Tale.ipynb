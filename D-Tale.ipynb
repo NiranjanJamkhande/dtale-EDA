{
 "cells": [
  {
   "cell_type": "code",
   "execution_count": 6,
   "metadata": {},
   "outputs": [
    {
     "name": "stdout",
     "output_type": "stream",
     "text": [
      "Collecting dtale\n",
      "  Using cached dtale-1.36.0-py2.py3-none-any.whl (14.0 MB)\n",
      "Requirement already satisfied: requests in c:\\users\\admin\\anaconda3\\envs\\atensorflow-env\\lib\\site-packages (from dtale) (2.22.0)\n",
      "Collecting strsimpy\n",
      "  Using cached strsimpy-0.2.0-py3-none-any.whl (45 kB)\n",
      "Collecting dash-bootstrap-components; python_version > \"3.0\"\n",
      "  Using cached dash_bootstrap_components-0.11.3-py2.py3-none-any.whl (189 kB)\n",
      "Collecting lz4; python_version > \"3.0\"\n",
      "  Using cached lz4-3.1.3-cp37-cp37m-win_amd64.whl (192 kB)\n",
      "Processing c:\\users\\admin\\appdata\\local\\pip\\cache\\wheels\\50\\cc\\8f\\d0da07e4ec4e7a4c4cf32aee9057e4d1c318de910543b4684e\\ppscore-1.2.0-py2.py3-none-any.whl\n",
      "Collecting flask-ngrok; python_version > \"3.0\"\n",
      "  Using cached flask_ngrok-0.0.25-py3-none-any.whl (3.1 kB)\n",
      "Collecting Flask>=1.0\n",
      "  Downloading Flask-1.1.2-py2.py3-none-any.whl (94 kB)\n",
      "Requirement already satisfied: plotly>=4.9.0 in c:\\users\\admin\\anaconda3\\envs\\atensorflow-env\\lib\\site-packages (from dtale) (4.14.3)\n",
      "Requirement already satisfied: pandas in c:\\users\\admin\\anaconda3\\envs\\atensorflow-env\\lib\\site-packages (from dtale) (1.0.0)\n",
      "Requirement already satisfied: xlrd in c:\\users\\admin\\anaconda3\\envs\\atensorflow-env\\lib\\site-packages (from dtale) (1.2.0)\n",
      "Collecting xarray; python_version >= \"3.0\"\n",
      "  Using cached xarray-0.16.2-py3-none-any.whl (736 kB)\n",
      "Processing c:\\users\\admin\\appdata\\local\\pip\\cache\\wheels\\0e\\4a\\1c\\3490cfe6a59299b06917af6626a969c8fb7caead39b2d74cf2\\dash_colorscales-0.0.4-cp37-none-any.whl\n",
      "Collecting openpyxl; python_version >= \"3.0\"\n",
      "  Downloading openpyxl-3.0.6-py2.py3-none-any.whl (242 kB)\n",
      "Requirement already satisfied: scikit-learn>='0.21.0' in c:\\users\\admin\\anaconda3\\envs\\atensorflow-env\\lib\\site-packages (from dtale) (0.22.1)\n",
      "Collecting kaleido\n",
      "  Using cached kaleido-0.1.0.post1-py2.py3-none-win_amd64.whl (56.0 MB)\n",
      "Collecting squarify\n",
      "  Using cached squarify-0.4.3-py3-none-any.whl (4.3 kB)\n",
      "Collecting statsmodels; python_version > \"3.0\"\n",
      "  Downloading statsmodels-0.12.2-cp37-none-win_amd64.whl (9.3 MB)\n",
      "Processing c:\\users\\admin\\appdata\\local\\pip\\cache\\wheels\\f7\\50\\a7\\a230ff7f503b10120bff18c2524a375bb85a61ce6b519c8a77\\dash-1.19.0-cp37-none-any.whl\n",
      "Collecting networkx; python_version >= \"3.0\"\n",
      "  Using cached networkx-2.5-py3-none-any.whl (1.6 MB)\n",
      "Requirement already satisfied: six in c:\\users\\admin\\anaconda3\\envs\\atensorflow-env\\lib\\site-packages (from dtale) (1.14.0)\n",
      "Processing c:\\users\\admin\\appdata\\local\\pip\\cache\\wheels\\1c\\9c\\f7\\84731716eaa9fc952cdbdd1f87df3ca9b8805c317c609efcd6\\dash_daq-0.5.0-cp37-none-any.whl\n",
      "Processing c:\\users\\admin\\appdata\\local\\pip\\cache\\wheels\\0d\\56\\7d\\e0c50541e5421b8291d958afb098c23818989e29d91a1edac5\\flask_compress-1.9.0-cp37-none-any.whl\n",
      "Collecting itsdangerous\n",
      "  Downloading itsdangerous-1.1.0-py2.py3-none-any.whl (16 kB)\n",
      "Requirement already satisfied: scipy in c:\\users\\admin\\anaconda3\\envs\\atensorflow-env\\lib\\site-packages (from dtale) (1.3.2)\n",
      "Requirement already satisfied: future>=0.14.0 in c:\\users\\admin\\anaconda3\\envs\\atensorflow-env\\lib\\site-packages (from dtale) (0.18.2)\n",
      "Requirement already satisfied: certifi>=2017.4.17 in c:\\users\\admin\\anaconda3\\envs\\atensorflow-env\\lib\\site-packages (from requests->dtale) (2019.11.28)\n",
      "Requirement already satisfied: chardet<3.1.0,>=3.0.2 in c:\\users\\admin\\anaconda3\\envs\\atensorflow-env\\lib\\site-packages (from requests->dtale) (3.0.4)\n",
      "Requirement already satisfied: idna<2.9,>=2.5 in c:\\users\\admin\\anaconda3\\envs\\atensorflow-env\\lib\\site-packages (from requests->dtale) (2.8)\n",
      "Requirement already satisfied: urllib3!=1.25.0,!=1.25.1,<1.26,>=1.21.1 in c:\\users\\admin\\anaconda3\\envs\\atensorflow-env\\lib\\site-packages (from requests->dtale) (1.25.8)\n",
      "Requirement already satisfied: Werkzeug>=0.15 in c:\\users\\admin\\anaconda3\\envs\\atensorflow-env\\lib\\site-packages (from Flask>=1.0->dtale) (0.16.1)\n",
      "Requirement already satisfied: Jinja2>=2.10.1 in c:\\users\\admin\\anaconda3\\envs\\atensorflow-env\\lib\\site-packages (from Flask>=1.0->dtale) (2.11.1)\n",
      "Collecting click>=5.1\n",
      "  Downloading click-7.1.2-py2.py3-none-any.whl (82 kB)\n",
      "Requirement already satisfied: retrying>=1.3.3 in c:\\users\\admin\\anaconda3\\envs\\atensorflow-env\\lib\\site-packages (from plotly>=4.9.0->dtale) (1.3.3)\n",
      "Requirement already satisfied: numpy>=1.13.3 in c:\\users\\admin\\anaconda3\\envs\\atensorflow-env\\lib\\site-packages (from pandas->dtale) (1.20.1)\n",
      "Requirement already satisfied: pytz>=2017.2 in c:\\users\\admin\\anaconda3\\envs\\atensorflow-env\\lib\\site-packages (from pandas->dtale) (2019.3)\n",
      "Requirement already satisfied: python-dateutil>=2.6.1 in c:\\users\\admin\\anaconda3\\envs\\atensorflow-env\\lib\\site-packages (from pandas->dtale) (2.8.1)\n",
      "Requirement already satisfied: setuptools>=38.4 in c:\\users\\admin\\anaconda3\\envs\\atensorflow-env\\lib\\site-packages (from xarray; python_version >= \"3.0\"->dtale) (45.1.0.post20200127)\n",
      "Collecting et-xmlfile\n",
      "  Downloading et_xmlfile-1.0.1.tar.gz (8.4 kB)\n",
      "Collecting jdcal\n",
      "  Downloading jdcal-1.4.1-py2.py3-none-any.whl (9.5 kB)\n",
      "Requirement already satisfied: joblib>=0.11 in c:\\users\\admin\\anaconda3\\envs\\atensorflow-env\\lib\\site-packages (from scikit-learn>='0.21.0'->dtale) (0.14.1)\n",
      "Collecting patsy>=0.5\n",
      "  Downloading patsy-0.5.1-py2.py3-none-any.whl (231 kB)\n",
      "Processing c:\\users\\admin\\appdata\\local\\pip\\cache\\wheels\\46\\a0\\ec\\2be2e8fc750e623d76f9690c397cc5ab28b33d0a16a49e10c5\\dash_renderer-1.9.0-cp37-none-any.whl\n",
      "Processing c:\\users\\admin\\appdata\\local\\pip\\cache\\wheels\\53\\3d\\be\\d628d6f66eedf9597f0c89c8ff43a5020ad1c25152c77d8e9f\\dash_core_components-1.15.0-cp37-none-any.whl\n",
      "Processing c:\\users\\admin\\appdata\\local\\pip\\cache\\wheels\\44\\95\\70\\0dc41f9b4e31b8a7ea22193aad5647b2c85cfab37bf13c0242\\dash_html_components-1.1.2-cp37-none-any.whl\n",
      "Processing c:\\users\\admin\\appdata\\local\\pip\\cache\\wheels\\72\\d9\\f6\\2ad62ac0037f1f0c0d3d10948a596b594a069057df0656ac3f\\dash_table-4.11.2-cp37-none-any.whl\n",
      "Requirement already satisfied: decorator>=4.3.0 in c:\\users\\admin\\anaconda3\\envs\\atensorflow-env\\lib\\site-packages (from networkx; python_version >= \"3.0\"->dtale) (4.4.1)\n",
      "Collecting brotli\n",
      "  Using cached Brotli-1.0.9-cp37-cp37m-win_amd64.whl (365 kB)\n",
      "Requirement already satisfied: MarkupSafe>=0.23 in c:\\users\\admin\\anaconda3\\envs\\atensorflow-env\\lib\\site-packages (from Jinja2>=2.10.1->Flask>=1.0->dtale) (1.1.1)\n",
      "Building wheels for collected packages: et-xmlfile\n",
      "  Building wheel for et-xmlfile (setup.py): started\n",
      "  Building wheel for et-xmlfile (setup.py): finished with status 'done'\n",
      "  Created wheel for et-xmlfile: filename=et_xmlfile-1.0.1-py3-none-any.whl size=8920 sha256=655e2e9230b6e6e3adb74cd718e651acead6e367168a19c726165fddfdc8e17d\n",
      "  Stored in directory: c:\\users\\admin\\appdata\\local\\pip\\cache\\wheels\\e2\\bd\\55\\048b4fd505716c4c298f42ee02dffd9496bb6d212b266c7f31\n",
      "Successfully built et-xmlfile\n",
      "Installing collected packages: strsimpy, dash-renderer, itsdangerous, click, Flask, brotli, Flask-Compress, dash-core-components, dash-html-components, dash-table, dash, dash-bootstrap-components, lz4, ppscore, flask-ngrok, xarray, dash-colorscales, et-xmlfile, jdcal, openpyxl, kaleido, squarify, patsy, statsmodels, networkx, dash-daq, dtale\n",
      "Successfully installed Flask-1.1.2 Flask-Compress-1.9.0 brotli-1.0.9 click-7.1.2 dash-1.19.0 dash-bootstrap-components-0.11.3 dash-colorscales-0.0.4 dash-core-components-1.15.0 dash-daq-0.5.0 dash-html-components-1.1.2 dash-renderer-1.9.0 dash-table-4.11.2 dtale-1.36.0 et-xmlfile-1.0.1 flask-ngrok-0.0.25 itsdangerous-1.1.0 jdcal-1.4.1 kaleido-0.1.0.post1 lz4-3.1.3 networkx-2.5 openpyxl-3.0.6 patsy-0.5.1 ppscore-1.2.0 squarify-0.4.3 statsmodels-0.12.2 strsimpy-0.2.0 xarray-0.16.2\n",
      "Note: you may need to restart the kernel to use updated packages.\n"
     ]
    }
   ],
   "source": [
    "pip install dtale"
   ]
  },
  {
   "cell_type": "code",
   "execution_count": 1,
   "metadata": {},
   "outputs": [],
   "source": [
    "import seaborn as sns"
   ]
  },
  {
   "cell_type": "code",
   "execution_count": 2,
   "metadata": {},
   "outputs": [
    {
     "name": "stdout",
     "output_type": "stream",
     "text": [
      "['anagrams', 'anscombe', 'attention', 'brain_networks', 'car_crashes', 'diamonds', 'dots', 'exercise', 'flights', 'fmri', 'gammas', 'geyser', 'iris', 'mpg', 'penguins', 'planets', 'tips', 'titanic']\n"
     ]
    }
   ],
   "source": [
    "print(sns.get_dataset_names())"
   ]
  },
  {
   "cell_type": "code",
   "execution_count": 3,
   "metadata": {},
   "outputs": [],
   "source": [
    "df = sns.load_dataset('planets')"
   ]
  },
  {
   "cell_type": "code",
   "execution_count": 4,
   "metadata": {},
   "outputs": [
    {
     "data": {
      "text/html": [
       "<div>\n",
       "<style scoped>\n",
       "    .dataframe tbody tr th:only-of-type {\n",
       "        vertical-align: middle;\n",
       "    }\n",
       "\n",
       "    .dataframe tbody tr th {\n",
       "        vertical-align: top;\n",
       "    }\n",
       "\n",
       "    .dataframe thead th {\n",
       "        text-align: right;\n",
       "    }\n",
       "</style>\n",
       "<table border=\"1\" class=\"dataframe\">\n",
       "  <thead>\n",
       "    <tr style=\"text-align: right;\">\n",
       "      <th></th>\n",
       "      <th>method</th>\n",
       "      <th>number</th>\n",
       "      <th>orbital_period</th>\n",
       "      <th>mass</th>\n",
       "      <th>distance</th>\n",
       "      <th>year</th>\n",
       "    </tr>\n",
       "  </thead>\n",
       "  <tbody>\n",
       "    <tr>\n",
       "      <th>0</th>\n",
       "      <td>Radial Velocity</td>\n",
       "      <td>1</td>\n",
       "      <td>269.300</td>\n",
       "      <td>7.10</td>\n",
       "      <td>77.40</td>\n",
       "      <td>2006</td>\n",
       "    </tr>\n",
       "    <tr>\n",
       "      <th>1</th>\n",
       "      <td>Radial Velocity</td>\n",
       "      <td>1</td>\n",
       "      <td>874.774</td>\n",
       "      <td>2.21</td>\n",
       "      <td>56.95</td>\n",
       "      <td>2008</td>\n",
       "    </tr>\n",
       "    <tr>\n",
       "      <th>2</th>\n",
       "      <td>Radial Velocity</td>\n",
       "      <td>1</td>\n",
       "      <td>763.000</td>\n",
       "      <td>2.60</td>\n",
       "      <td>19.84</td>\n",
       "      <td>2011</td>\n",
       "    </tr>\n",
       "    <tr>\n",
       "      <th>3</th>\n",
       "      <td>Radial Velocity</td>\n",
       "      <td>1</td>\n",
       "      <td>326.030</td>\n",
       "      <td>19.40</td>\n",
       "      <td>110.62</td>\n",
       "      <td>2007</td>\n",
       "    </tr>\n",
       "    <tr>\n",
       "      <th>4</th>\n",
       "      <td>Radial Velocity</td>\n",
       "      <td>1</td>\n",
       "      <td>516.220</td>\n",
       "      <td>10.50</td>\n",
       "      <td>119.47</td>\n",
       "      <td>2009</td>\n",
       "    </tr>\n",
       "  </tbody>\n",
       "</table>\n",
       "</div>"
      ],
      "text/plain": [
       "            method  number  orbital_period   mass  distance  year\n",
       "0  Radial Velocity       1         269.300   7.10     77.40  2006\n",
       "1  Radial Velocity       1         874.774   2.21     56.95  2008\n",
       "2  Radial Velocity       1         763.000   2.60     19.84  2011\n",
       "3  Radial Velocity       1         326.030  19.40    110.62  2007\n",
       "4  Radial Velocity       1         516.220  10.50    119.47  2009"
      ]
     },
     "execution_count": 4,
     "metadata": {},
     "output_type": "execute_result"
    }
   ],
   "source": [
    "df.head()"
   ]
  },
  {
   "cell_type": "code",
   "execution_count": 7,
   "metadata": {},
   "outputs": [],
   "source": [
    "import dtale"
   ]
  },
  {
   "cell_type": "code",
   "execution_count": 8,
   "metadata": {},
   "outputs": [
    {
     "data": {
      "text/html": [
       "\n",
       "        <iframe\n",
       "            width=\"100%\"\n",
       "            height=\"475\"\n",
       "            src=\"http://dell:40000/dtale/iframe/1\"\n",
       "            frameborder=\"0\"\n",
       "            allowfullscreen\n",
       "        ></iframe>\n",
       "        "
      ],
      "text/plain": [
       "<IPython.lib.display.IFrame at 0xdf5a93e888>"
      ]
     },
     "metadata": {},
     "output_type": "display_data"
    },
    {
     "data": {
      "text/plain": []
     },
     "execution_count": 8,
     "metadata": {},
     "output_type": "execute_result"
    }
   ],
   "source": [
    "dtale.show(df)"
   ]
  }
 ],
 "metadata": {
  "kernelspec": {
   "display_name": "Python 3",
   "language": "python",
   "name": "python3"
  },
  "language_info": {
   "codemirror_mode": {
    "name": "ipython",
    "version": 3
   },
   "file_extension": ".py",
   "mimetype": "text/x-python",
   "name": "python",
   "nbconvert_exporter": "python",
   "pygments_lexer": "ipython3",
   "version": "3.7.6"
  }
 },
 "nbformat": 4,
 "nbformat_minor": 4
}
